{
 "cells": [
  {
   "cell_type": "code",
   "execution_count": null,
   "metadata": {},
   "outputs": [],
   "source": [
    "import os\n",
    "\n",
    "current_directory = os.path.abspath(os.getcwd())\n",
    "target_directory = os.path.abspath(\"./FreeVC\")\n",
    "\n",
    "# Check and change directory if needed\n",
    "if os.path.normpath(current_directory) != os.path.normpath(target_directory):\n",
    "    os.chdir(target_directory)\n",
    "else:\n",
    "    pass\n",
    "    # print(f\"Already in the target directory: {target_directory}\")\n",
    "\n",
    "!uvicorn main:app --host 0.0.0.0 --port 8000 --reload"
   ]
  }
 ],
 "metadata": {
  "kernelspec": {
   "display_name": "cloudspace",
   "language": "python",
   "name": "python3"
  },
  "language_info": {
   "name": "python",
   "version": "3.10.10"
  }
 },
 "nbformat": 4,
 "nbformat_minor": 2
}
