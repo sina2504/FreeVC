{
 "cells": [
  {
   "cell_type": "markdown",
   "metadata": {},
   "source": [
    "work with Python 3.10"
   ]
  },
  {
   "cell_type": "code",
   "execution_count": null,
   "metadata": {},
   "outputs": [],
   "source": [
    "# requirements.txt\n",
    "!pip install \\\n",
    "  glob2==0.7 \\\n",
    "  tqdm==4.62.3 \\\n",
    "  librosa==0.8.1 \\\n",
    "  numpy==1.22.4 \\\n",
    "  scipy==1.7.2 \\\n",
    "  tensorboard==2.7.0 \\\n",
    "  torch==1.13.0 \\\n",
    "  torchvision==0.14.0 \\\n",
    "  webrtcvad==2.0.10"
   ]
  },
  {
   "cell_type": "code",
   "execution_count": null,
   "metadata": {},
   "outputs": [],
   "source": [
    "# This ensures you get pydantic, uvicorn, and other required packages\n",
    "!pip install \"fastapi[all]\" "
   ]
  },
  {
   "cell_type": "code",
   "execution_count": 3,
   "metadata": {},
   "outputs": [],
   "source": [
    "!pip install gdown -q"
   ]
  },
  {
   "cell_type": "code",
   "execution_count": null,
   "metadata": {},
   "outputs": [],
   "source": [
    "# Clone FreeVC\n",
    "%cd ~\n",
    "!git clone https://github.com/OlaWod/FreeVC.git FreeVC\n",
    "%cd FreeVC"
   ]
  },
  {
   "cell_type": "code",
   "execution_count": 6,
   "metadata": {},
   "outputs": [
    {
     "name": "stdout",
     "output_type": "stream",
     "text": [
      "Downloading...\n",
      "From (original): https://drive.google.com/uc?id=12-cB34qCTvByWT-QtOcZaqwwO21FLSqU\n",
      "From (redirected): https://drive.google.com/uc?id=12-cB34qCTvByWT-QtOcZaqwwO21FLSqU&confirm=t&uuid=b18cd781-39b1-4434-a9d9-cb4b528a7fc1\n",
      "To: /teamspace/studios/this_studio/FreeVC/wavlm/WavLM-Large.pt\n",
      "100%|███████████████████████████████████████| 1.26G/1.26G [00:11<00:00, 106MB/s]\n"
     ]
    }
   ],
   "source": [
    "# Download WavLM-Large.pt\n",
    "\n",
    "!gdown 12-cB34qCTvByWT-QtOcZaqwwO21FLSqU -O wavlm/WavLM-Large.pt"
   ]
  },
  {
   "cell_type": "code",
   "execution_count": null,
   "metadata": {},
   "outputs": [],
   "source": [
    "import os\n",
    "from IPython.display import Audio\n",
    "\n",
    "# Make necessary folders\n",
    "os.makedirs(\"checkpoints\", exist_ok=True)"
   ]
  },
  {
   "cell_type": "code",
   "execution_count": null,
   "metadata": {},
   "outputs": [],
   "source": [
    "# Download checkpoints/freevc.pth  \n",
    "# Dlownload from this link: https://onedrive.live.com/?redeem=aHR0cHM6Ly8xZHJ2Lm1zL3UvcyFBbnZ1a1ZubFEzWlR4MXJqck9aMmFiQ3d1QkFoP2U9VWxoUlI1&id=537643E55991EE7B%219178&cid=537643E55991EE7B\n",
    "!wget -O checkpoints/freevc.pth \"\""
   ]
  },
  {
   "cell_type": "code",
   "execution_count": null,
   "metadata": {},
   "outputs": [],
   "source": [
    "# for remove output folder \n",
    "\n",
    "# import os\n",
    "\n",
    "# current_directory = os.path.abspath(os.getcwd())\n",
    "# target_directory = os.path.abspath(\"./\")\n",
    "\n",
    "# # Check and change directory if needed\n",
    "# if os.path.normpath(current_directory) != os.path.normpath(target_directory):\n",
    "#     os.chdir(target_directory)\n",
    "# else:\n",
    "#     pass\n",
    "#     # print(f\"Already in the target directory: {target_directory}\")\n",
    "\n",
    "# !rm -r output/"
   ]
  }
 ],
 "metadata": {
  "kernelspec": {
   "display_name": "cloudspace",
   "language": "python",
   "name": "python3"
  },
  "language_info": {
   "codemirror_mode": {
    "name": "ipython",
    "version": 3
   },
   "file_extension": ".py",
   "mimetype": "text/x-python",
   "name": "python",
   "nbconvert_exporter": "python",
   "pygments_lexer": "ipython3",
   "version": "3.10.10"
  }
 },
 "nbformat": 4,
 "nbformat_minor": 2
}
